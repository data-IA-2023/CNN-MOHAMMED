{
 "cells": [
  {
   "cell_type": "markdown",
   "metadata": {
    "colab_type": "text",
    "id": "VhNFp-0y3ej3"
   },
   "source": [
    "## Le deep learning"
   ]
  },
  {
   "cell_type": "markdown",
   "metadata": {
    "colab_type": "text",
    "id": "tyl8D-uX3ej6"
   },
   "source": [
    "Aujourd'hui, il existe beaucoup de produits dit \"d'Intelligence Artificielle (IA)\", ces applications utilisent majoritairement du Machine Learning (ML), qui est un sous-domaine de l'IA, comme vous pouvez le voir ci-dessous. Le machine learning est un champ d'étude qui permet à des programmes de pouvoir résoudre des problèmes à partir de données sans les avoir explicitement programmé. Le deep learning est seulement un des nombreux algorithmes d'apprentissage du machine learning. \n",
    "\n",
    "<img src=\"https://github.com/MorganGautherot/Tuto_MRI_ML/blob/master/tp_1/data/intelligence_artificielle.png?raw=1\" width=\"400\">"
   ]
  },
  {
   "cell_type": "markdown",
   "metadata": {
    "colab_type": "text",
    "id": "vmC0mhOS3ej7"
   },
   "source": [
    "Ici, nous allons nous concentrer sur les problèmatiques d'apprentissage supervisé. Nous allons avoir un jeu de données avec des variables explicatives A et des labels B. Le but de notre algorithme, sera d'apprendre à transformer A en B. Comme vous pouvez le voir ci-dessous, la première étape sera l'entraînement, où l'on donnera des données d'entraînement A et B à un algorithme d'apprentissage. Une fois l'entraînement terminé, l'algorithme nous donne un modèle mathématique. Ce modèle pourra prendre des nouvelles données A' afin de pouvoir estimer leurs résultats B'\n",
    "\n",
    "<img src=\"https://github.com/MorganGautherot/Tuto_MRI_ML/blob/master/tp_1/data/machine_learning.png?raw=1\" width=\"600\">\n"
   ]
  },
  {
   "cell_type": "markdown",
   "metadata": {
    "colab_type": "text",
    "id": "6rPyWIDP3ej8"
   },
   "source": [
    "Le deep learning est un algorithme de machine learning basé sur des neurones artificiels. Ces neurones sont des unités de calculs, ils prenent en entrée des informations, les transforment en une valeur et transmettent cette valeur à d'autres neurones.\n",
    "\n",
    "<img src =\"data/neurone.png\" width=\"600\" >\n",
    "\n",
    "Vous pouvez le voir ci-dessous, si l'on met des neurones artificiels en réseau, nous obtenons un réseau de neurones qui permet de prendre en entrée des données A et de changer la représentation de ces données afin de pouvoir transformer plus facilement A en B.\n",
    "\n",
    "<img src =\"data/réseau_de_neurones.png\" width=\"600\" >\n",
    "\n",
    "Initiallement, cet algorithme était censé représenter artificiellement le comportement du cerveau humain. Aujourd'hui, son fonctionnement est bien loin du fonctionnement du cerveau humain même s'il y a encore du vocabulaire hérité de cette inspiration biologique."
   ]
  },
  {
   "cell_type": "markdown",
   "metadata": {
    "colab_type": "text",
    "id": "x_KBjlsm3ej9"
   },
   "source": [
    "L'avantage du deep learning réside dans la superposition de couches. Cette superposition permet de changer la représentation des données d'entrées de notre réseau pour mettre en valeur différentes caractéristiques de notre jeux de données. Cette nouvelle représentation est élaboré afin de résoudre notre problème plus efficacement. Comme vous pouvez le voir ci-dessous, ça remplace en partie le processus de feature engineering indispensable aux modèles de machines learning classique. \n",
    "\n",
    "<img src =\"data/ml_vs_dl.png\" width=\"700\" >\n",
    "\n",
    "Cette force, a permi le développement d'algorithme de deep learning très robuste capable de mieux comprendre les données non structurés tels que du texte, du son et des images."
   ]
  },
  {
   "cell_type": "markdown",
   "metadata": {
    "colab_type": "text",
    "id": "Qxt848q03ej-"
   },
   "source": [
    "## Les architectures de Convolutional Neural Network (CNN)\n",
    "\n",
    "Comme nous l'avons vue précédemment, le principal avantage des réseaux de neurones par rapport aux algorithmes de machine learning traditionnels est que les algorithmes de deep learning apprennent des représentations par eux-mêmes, alors que dans le machine learning traditionnel, on définie des variables à la main sensés être une meilleure représentation des données. C'est vrai pour les réseaux de neurones de type \"fully connected\" qui ne sont constitués que de couches entièrement connectées. Mais il est très difficile de les entraîner pour des entrées de haute dimension comme les images.\n",
    "\n",
    "Lorsque vous utilisez une architecture de CNN, vous utilisez deux types de fonctionnalités artisanales : les convolutional layers (les filtres de convolution) et les poolign layers (les filtres de regroupement).\n",
    "\n",
    "Le concepteur du CNN pour la classification des images a examiné les données d'entrée (c'est ce que font les ingénieurs en machine learning traditionnels pour inventer des fonctionnalités) et a décidé que des patchs de pixels proches les uns des autres contiennent des informations qui pourraient aider à la classification, et en même temps réduire le nombre de paramètres. Vous pouvez voir l'application d'un patch sur une image ci-dessous.\n",
    "\n",
    "<img src=\"https://github.com/MorganGautherot/Tuto_MRI_ML/blob/master/tp_1/data/application_de_patchs.gif?raw=1\" width=\"500\" >\n",
    "\n",
    "En effet, l'application de patchs sur une image permet de transformer l'image et de faire ressortir certaines de ces caractéristiques comme vous pouvez le voir ci-dessous.\n",
    "\n",
    "<img src=\"https://github.com/MorganGautherot/Tuto_MRI_ML/blob/master/tp_1/data/filters.png?raw=1\" width=\"500\" >"
   ]
  },
  {
   "cell_type": "markdown",
   "metadata": {
    "colab_type": "text",
    "id": "Y4Fa3ReO3ej_"
   },
   "source": [
    "Le but du CNN est de transformer notre image de départ en vecteur qui serait la représentation vectorielle des caractéristiques de notre image. \n",
    "\n",
    "<img src=\"https://github.com/MorganGautherot/Tuto_MRI_ML/blob/master/tp_1/data/conv_nn.png?raw=1\" width=\"600\" >\n",
    "\n",
    "Une fois que nous avons extrait les caractéristiques de notre image sous forme de vecteur, nous pouvons utiliser cette représentation afin de résoudre un problème lié à notre image. Sur l'illustration ci-dessous, vous pouvez bien voir les deux différentes parties qui consistuent notre réseau. \n",
    "\n",
    "<img src=\"https://github.com/MorganGautherot/Tuto_MRI_ML/blob/master/tp_1/data/CNN.png?raw=1\" width=\"800\" >"
   ]
  },
  {
   "cell_type": "markdown",
   "metadata": {
    "colab_type": "text",
    "id": "AV1ot3Xk3ekA"
   },
   "source": [
    "## Exemple CNN"
   ]
  },
  {
   "cell_type": "markdown",
   "metadata": {
    "colab_type": "text",
    "id": "W6qKwqUq3ekB"
   },
   "source": [
    "Ne vous inquiétez pas, vous n'allez pas avoir besoin de connaître toutes les mathématiques qui se cachent derrière les réseaux convolutionel pour pouvoir les utiliser. \n",
    "Grâce à Tensorflow et sa sur-couche Keras, vous pouvez construire un modèle en quelques cliques.\n",
    "\n",
    "### Sélection du matériel\n",
    "\n",
    "Avant de commencer nous allons sélectionné le matériel adapté à nos calculs. Le deep learning à besoin de cartes graphiques (GPU) afin de réduire le temps de calculs.\n",
    "\n",
    "Appuyer sur \"Exécution\" -> \"Modifier le type d'exécution\" \n",
    "\n",
    "Dans \"Accélérateur matériel\" sélectionnez GPU puis appuyer sur enregistrer. \n",
    "\n",
    "### Importation des packages\n",
    "\n",
    "On va commencer par importer les packages nécessaires à l'élaboration de notre modèle."
   ]
  },
  {
   "cell_type": "code",
   "execution_count": null,
   "metadata": {
    "colab": {
     "base_uri": "https://localhost:8080/",
     "height": 63
    },
    "colab_type": "code",
    "executionInfo": {
     "elapsed": 2738,
     "status": "ok",
     "timestamp": 1583264147827,
     "user": {
      "displayName": "",
      "photoUrl": "",
      "userId": ""
     },
     "user_tz": -60
    },
    "id": "DW0-qPLH3ekC",
    "outputId": "c7501ec8-1c30-4008-927d-e7de501de190"
   },
   "outputs": [],
   "source": [
    "import math\n",
    "import numpy as np\n",
    "import h5py\n",
    "import matplotlib.pyplot as plt\n",
    "import scipy\n",
    "from PIL import Image\n",
    "from scipy import ndimage\n",
    "import tensorflow as tf\n",
    "from tensorflow.python.framework import ops\n",
    "\n",
    "import matplotlib.pyplot as plt\n",
    "import numpy as np\n",
    "from tensorflow.keras.optimizers import SGD\n",
    "from tensorflow.keras.models import Sequential\n",
    "from tensorflow.keras.layers import Dense, Dropout, Flatten\n",
    "from tensorflow.keras.layers import Conv2D, MaxPooling2D\n"
   ]
  },
  {
   "cell_type": "markdown",
   "metadata": {
    "colab_type": "text",
    "id": "HNTkfXAk3ekH"
   },
   "source": [
    "### Importations des données\n",
    "\n",
    "Maintenant que nos outils sont chargés, nous allons charger nos données.\n",
    "\n",
    "Cliquez sur le lien ci-dessous : \n",
    "\n",
    "https://drive.google.com/open?id=1Wg3FnIydOdu6twEpu3iB8inZghsIIV1d\n",
    "\n",
    "Cliquer droit sur le dossier data et appuyer sur ajouter à mon drive.\n",
    "\n",
    "<img src=\"https://github.com/MorganGautherot/Tuto_MRI_ML/blob/master/tp_1/images/data_google_drive.png?raw=1\" width=\"800\" >"
   ]
  },
  {
   "cell_type": "markdown",
   "metadata": {
    "colab_type": "text",
    "id": "ATBazqHW3ekI"
   },
   "source": [
    "Exécutez la cellule ci-dessous et appuyer sur le lien proposé. \n",
    "\n",
    "Suivez les instructions et copier le code ci-dessous."
   ]
  },
  {
   "cell_type": "code",
   "execution_count": null,
   "metadata": {
    "colab": {
     "base_uri": "https://localhost:8080/",
     "height": 122
    },
    "colab_type": "code",
    "executionInfo": {
     "elapsed": 35892,
     "status": "ok",
     "timestamp": 1583264249964,
     "user": {
      "displayName": "",
      "photoUrl": "",
      "userId": ""
     },
     "user_tz": -60
    },
    "id": "dxvb9XSi3ekJ",
    "outputId": "60d09bc8-a6a6-4dd2-8082-f5a8a6eee620"
   },
   "outputs": [],
   "source": [
    "from google.colab import drive\n",
    "drive.mount('/content/gdrive/')"
   ]
  },
  {
   "cell_type": "markdown",
   "metadata": {
    "colab_type": "text",
    "id": "QzuUN6Au3ekM"
   },
   "source": [
    "Les données sont maintenant dans votre environnement collab."
   ]
  },
  {
   "cell_type": "code",
   "execution_count": null,
   "metadata": {
    "colab": {},
    "colab_type": "code",
    "id": "MJJZb0b23ekN"
   },
   "outputs": [],
   "source": [
    "train_dataset = h5py.File('/content/gdrive/My Drive/tp_1/data/train_signs.h5', \"r\")\n",
    "train_set_x_orig = np.array(train_dataset[\"train_set_x\"][:])\n",
    "train_set_y_orig = np.array(train_dataset[\"train_set_y\"][:])\n",
    "\n",
    "test_dataset = h5py.File('/content/gdrive/My Drive/tp_1/data/test_signs.h5', \"r\")\n",
    "test_set_x_orig = np.array(test_dataset[\"test_set_x\"][:]) \n",
    "test_set_y_orig = np.array(test_dataset[\"test_set_y\"][:]) \n",
    "\n",
    "classes = np.array(test_dataset[\"list_classes\"][:]) \n",
    "  \n",
    "train_set_y_orig = train_set_y_orig.reshape((1, train_set_y_orig.shape[0]))\n",
    "test_set_y_orig = test_set_y_orig.reshape((1, test_set_y_orig.shape[0]))\n",
    "\n",
    "input_shape = train_set_x_orig[0].shape"
   ]
  },
  {
   "cell_type": "markdown",
   "metadata": {
    "colab_type": "text",
    "id": "f7-aMDKa3ekQ"
   },
   "source": [
    "Dans cet exemple, nous allons créer un modèle de deep learning capable de reconnaître quel chiffre fait la main sur une photo. Comme vous pouvez le voir ci-dessous, nous avons 5 classes. \n",
    "\n",
    "<img src=\"https://github.com/MorganGautherot/Tuto_MRI_ML/blob/master/tp_1/data/signes.png?raw=1\" width=\"800\" >"
   ]
  },
  {
   "cell_type": "markdown",
   "metadata": {
    "colab_type": "text",
    "id": "FxNNs6_e3ekR"
   },
   "source": [
    "Vous pouvez directement voir les exemples depuis le jeu de données."
   ]
  },
  {
   "cell_type": "code",
   "execution_count": null,
   "metadata": {
    "colab": {
     "base_uri": "https://localhost:8080/",
     "height": 285
    },
    "colab_type": "code",
    "executionInfo": {
     "elapsed": 1146,
     "status": "ok",
     "timestamp": 1583264348104,
     "user": {
      "displayName": "",
      "photoUrl": "",
      "userId": ""
     },
     "user_tz": -60
    },
    "id": "qAzk8yLr3ekS",
    "outputId": "48206437-1324-4fa9-c768-e3888a9cafcd"
   },
   "outputs": [],
   "source": [
    "# Example of a picture\n",
    "index = 0\n",
    "plt.imshow(train_set_x_orig[index])\n",
    "print (\"y = \" + str(np.squeeze(train_set_y_orig[:, index])))"
   ]
  },
  {
   "cell_type": "markdown",
   "metadata": {
    "colab_type": "text",
    "id": "FnwfVfnp3ekU"
   },
   "source": [
    "Vous pouvez voir ci-dessous que nos images sont en trois dimensions 64 x 64 x 3.\n",
    "\n",
    "La première dimension de 64 correspond à la hauteur en pixel de la photo, ici 64 pixels.\n",
    "\n",
    "La deuxième dimension de 64 correspond à la largeur en pixel de la photo, ici 64 pixels.\n",
    "\n",
    "La troisième dimension correspond aux intensités de rouge, de vert et de bleu nécessaires pour former la couleur du pixel.\n",
    "\n",
    "<img src=\"https://github.com/MorganGautherot/Tuto_MRI_ML/blob/master/tp_1/data/RGB-color-model.jpg?raw=1\" width=\"300\" >"
   ]
  },
  {
   "cell_type": "code",
   "execution_count": null,
   "metadata": {
    "colab": {
     "base_uri": "https://localhost:8080/",
     "height": 34
    },
    "colab_type": "code",
    "executionInfo": {
     "elapsed": 821,
     "status": "ok",
     "timestamp": 1583264482766,
     "user": {
      "displayName": "",
      "photoUrl": "",
      "userId": ""
     },
     "user_tz": -60
    },
    "id": "cbzNSm_u3ekV",
    "outputId": "fba39907-b488-4cbc-f6f0-fb14092453ff"
   },
   "outputs": [],
   "source": [
    "print(train_set_x_orig[0].shape)"
   ]
  },
  {
   "cell_type": "markdown",
   "metadata": {
    "colab_type": "text",
    "id": "-e_1NNZU3ekY"
   },
   "source": [
    "Pour créer des images en informatique, il n'y a pas une intensité par couleur, ce serait trop complexe à organiser. Pour remédier à cela, nous avons pris trois couleurs (rouge, vert et bleu) et chaque couleur sera une combinaison d'intensité de ces trois couleurs. Le schéma ci-dessous va sûrement vous aider à comprendre le problème. \n",
    "\n",
    "<img src=\"https://github.com/MorganGautherot/Tuto_MRI_ML/blob/master/tp_1/data/image_en_rgb.png?raw=1\" width=\"600\" >"
   ]
  },
  {
   "cell_type": "markdown",
   "metadata": {
    "colab_type": "text",
    "id": "5cWtHwvk3ekZ"
   },
   "source": [
    "### Normalisation\n",
    "\n",
    "Pour des raisons d'optimisation, nous voulons que les données d'entrées de notre modèle soient normalisées.\n",
    "\n",
    "La bonne nouvelle, c'est que les intensités d'une image sont toujours comprises entre 0 et 255. Nous allons donc utiliser la min-max normalisation afin de réduire la valeur des intensités de nos images."
   ]
  },
  {
   "cell_type": "code",
   "execution_count": null,
   "metadata": {
    "colab": {
     "base_uri": "https://localhost:8080/",
     "height": 85
    },
    "colab_type": "code",
    "executionInfo": {
     "elapsed": 743,
     "status": "ok",
     "timestamp": 1583264610467,
     "user": {
      "displayName": "",
      "photoUrl": "",
      "userId": ""
     },
     "user_tz": -60
    },
    "id": "ffHEnaSA3ekc",
    "outputId": "c7ceef76-f435-4a5b-e5be-e814b40477f4"
   },
   "outputs": [],
   "source": [
    "print('Valeur maximum de nos images : ',np.min(train_set_x_orig))\n",
    "print('Valeur minimum de nos images : ', np.max(train_set_x_orig))\n",
    "\n",
    "X_train = train_set_x_orig.astype('float32')/255\n",
    "X_test = test_set_x_orig.astype('float32')/255\n",
    "\n",
    "print('Valeur maximum de nos images normalisées : ',np.min(X_train))\n",
    "print('Valeur minimum de nos images normalisées : ',np.max(X_train))"
   ]
  },
  {
   "cell_type": "markdown",
   "metadata": {
    "colab_type": "text",
    "id": "VFkIIe363eke"
   },
   "source": [
    "Dans nos vecteurs \"train_set_y_orig\" et \"test_set_y_orig\" nous avons le chiffre correspondant à l'image de la main.\n",
    "\n",
    "Nous allons transformer nos valeurs en hot vecteur, c'est-à-dire au lieu d'avoir la valeur 5 on aura un vecteur avec un 1 à la 6ème case. \n",
    "\n",
    "<img src=\"https://github.com/MorganGautherot/Tuto_MRI_ML/blob/master/tp_1/data/hot_vecteur.png?raw=1\" width=\"800\" >"
   ]
  },
  {
   "cell_type": "code",
   "execution_count": null,
   "metadata": {
    "colab": {
     "base_uri": "https://localhost:8080/",
     "height": 51
    },
    "colab_type": "code",
    "executionInfo": {
     "elapsed": 800,
     "status": "ok",
     "timestamp": 1583264878718,
     "user": {
      "displayName": "",
      "photoUrl": "",
      "userId": ""
     },
     "user_tz": -60
    },
    "id": "-GzAtEE83ekf",
    "outputId": "9655ea6f-9e74-4930-9fbd-239ac58737ed"
   },
   "outputs": [],
   "source": [
    "print(train_set_y_orig.shape)\n",
    "print(test_set_y_orig.shape)"
   ]
  },
  {
   "cell_type": "code",
   "execution_count": null,
   "metadata": {
    "colab": {
     "base_uri": "https://localhost:8080/",
     "height": 51
    },
    "colab_type": "code",
    "executionInfo": {
     "elapsed": 825,
     "status": "ok",
     "timestamp": 1583264907321,
     "user": {
      "displayName": "",
      "photoUrl": "",
      "userId": ""
     },
     "user_tz": -60
    },
    "id": "jZ3u2Ha13ekh",
    "outputId": "c8d67653-67d0-4a99-b0fd-25555ae0a82a"
   },
   "outputs": [],
   "source": [
    "Y_train = np.eye(6)[train_set_y_orig.reshape(-1)]\n",
    "Y_test = np.eye(6)[test_set_y_orig.reshape(-1)]\n",
    "print(Y_train[150, :])\n",
    "print((train_set_y_orig[:, 150]))"
   ]
  },
  {
   "cell_type": "markdown",
   "metadata": {
    "colab_type": "text",
    "id": "_szJ9Aob3ekk"
   },
   "source": [
    "### Construction de notre modèle"
   ]
  },
  {
   "cell_type": "markdown",
   "metadata": {
    "colab_type": "text",
    "id": "AuV1On6r3ekk"
   },
   "source": [
    "Ici nous allons créer un modèle basique de CNN."
   ]
  },
  {
   "cell_type": "code",
   "execution_count": null,
   "metadata": {
    "colab": {},
    "colab_type": "code",
    "id": "fPTbk3sh3ekl"
   },
   "outputs": [],
   "source": [
    "model = Sequential()"
   ]
  },
  {
   "cell_type": "markdown",
   "metadata": {
    "colab_type": "text",
    "id": "p3ZrNjPY3eko"
   },
   "source": [
    "Nous allons commencer notre modèle par une couche de convolution. Comme vous pouvez voir ci-dessous, c'est simplement l'application d'un filtre sur notre image pour extraire des caractéristiques.\n",
    "\n",
    "<img src=\"https://github.com/MorganGautherot/Tuto_MRI_ML/blob/master/tp_1/data/convolution_anim.gif?raw=1\" width=\"800\" >"
   ]
  },
  {
   "cell_type": "code",
   "execution_count": null,
   "metadata": {
    "colab": {
     "base_uri": "https://localhost:8080/",
     "height": 88
    },
    "colab_type": "code",
    "executionInfo": {
     "elapsed": 724,
     "status": "ok",
     "timestamp": 1583264996127,
     "user": {
      "displayName": "",
      "photoUrl": "",
      "userId": ""
     },
     "user_tz": -60
    },
    "id": "LY_ZTUy83ekp",
    "outputId": "958cbe68-57fd-468f-e1eb-fe1fab46ea9d"
   },
   "outputs": [],
   "source": [
    "model.add(Conv2D(32, \n",
    "                 kernel_size=(3, 3),\n",
    "                 activation='relu',\n",
    "                 input_shape=(64,64,3)))\n",
    "model.add(Conv2D(32, \n",
    "                 kernel_size=(3, 3),\n",
    "                 activation='relu',\n",
    "                 input_shape=(64,64,3)))"
   ]
  },
  {
   "cell_type": "markdown",
   "metadata": {
    "colab_type": "text",
    "id": "GlheyBYU3ekr"
   },
   "source": [
    "Nous allons maintenant ajouter une couche de max-pooling. Comme vous pouvez voir ci-dessous, c'est simplement la sélection de l'intensité la plus grande parmi une sélection de pixels.\n",
    "\n",
    "<img src=\"https://github.com/MorganGautherot/Tuto_MRI_ML/blob/master/tp_1/data/pooling_anim.gif?raw=1\" width=\"800\" >"
   ]
  },
  {
   "cell_type": "code",
   "execution_count": null,
   "metadata": {
    "colab": {},
    "colab_type": "code",
    "id": "r0veTzeM3eks"
   },
   "outputs": [],
   "source": [
    "model.add(MaxPooling2D(pool_size=(2, 2)))"
   ]
  },
  {
   "cell_type": "markdown",
   "metadata": {
    "colab_type": "text",
    "id": "EeeXcqM53eku"
   },
   "source": [
    "Maintenant que nous avons extrait des informations de notre image, nous allons transformer ces représentations en vecteur.\n",
    "\n",
    "<img src=\"https://github.com/MorganGautherot/Tuto_MRI_ML/blob/master/tp_1/data/flatten.gif?raw=1\" width=\"500\" >"
   ]
  },
  {
   "cell_type": "code",
   "execution_count": null,
   "metadata": {
    "colab": {},
    "colab_type": "code",
    "id": "sB8oY1au3ekv"
   },
   "outputs": [],
   "source": [
    "model.add(Flatten())"
   ]
  },
  {
   "cell_type": "markdown",
   "metadata": {
    "colab_type": "text",
    "id": "AlOWsYGi3eky"
   },
   "source": [
    "Pour finir, nous allons utiliser des couches entièrement connectées pour prédire l'appartenance de nos observations à nos classes.\n",
    "\n",
    "<img src=\"https://github.com/MorganGautherot/Tuto_MRI_ML/blob/master/tp_1/data/fully_connected.png?raw=1\" width=\"500\" >"
   ]
  },
  {
   "cell_type": "code",
   "execution_count": null,
   "metadata": {
    "colab": {},
    "colab_type": "code",
    "id": "Z87lJOIB3eky"
   },
   "outputs": [],
   "source": [
    "model.add(Dense(6, activation='softmax'))"
   ]
  },
  {
   "cell_type": "markdown",
   "metadata": {
    "colab_type": "text",
    "id": "2Ixeu8bi3ek1"
   },
   "source": [
    "Notre modèle est assemblé, nous pouvons maintenant le visualiser."
   ]
  },
  {
   "cell_type": "code",
   "execution_count": null,
   "metadata": {
    "colab": {
     "base_uri": "https://localhost:8080/",
     "height": 323
    },
    "colab_type": "code",
    "executionInfo": {
     "elapsed": 776,
     "status": "ok",
     "timestamp": 1583265108937,
     "user": {
      "displayName": "",
      "photoUrl": "",
      "userId": ""
     },
     "user_tz": -60
    },
    "id": "ACtAy0ph3ek2",
    "outputId": "2c5283dd-a56a-4069-a3a2-88ebb20fa59f"
   },
   "outputs": [],
   "source": [
    "model.summary()"
   ]
  },
  {
   "cell_type": "markdown",
   "metadata": {
    "colab_type": "text",
    "id": "LzJr3QHV3ek4"
   },
   "source": [
    "Voici une représentation plus visuelle du modèle.\n",
    "\n",
    "<img src=\"https://github.com/MorganGautherot/Tuto_MRI_ML/blob/master/tp_1/data/baseline.png?raw=1\" width=\"800\" >"
   ]
  },
  {
   "cell_type": "markdown",
   "metadata": {
    "colab_type": "text",
    "id": "Fhq9mk3A3ek4"
   },
   "source": [
    "Nous voilà à la dernière étape, l'entraînement de notre modèle."
   ]
  },
  {
   "cell_type": "code",
   "execution_count": null,
   "metadata": {
    "colab": {
     "base_uri": "https://localhost:8080/",
     "height": 1000
    },
    "colab_type": "code",
    "executionInfo": {
     "elapsed": 41772,
     "status": "ok",
     "timestamp": 1583265207156,
     "user": {
      "displayName": "",
      "photoUrl": "",
      "userId": ""
     },
     "user_tz": -60
    },
    "id": "z1z-n9Ob3ek5",
    "outputId": "ad4a8582-1fc5-44f3-a653-576238dc45cb"
   },
   "outputs": [],
   "source": [
    "model.compile(loss=\"categorical_crossentropy\", optimizer=SGD(lr=0.01), metrics=[\"accuracy\"])\n",
    "model.fit(X_train, Y_train,\n",
    "          epochs = 100,\n",
    "          validation_data=(X_test, Y_test))"
   ]
  },
  {
   "cell_type": "markdown",
   "metadata": {
    "colab_type": "text",
    "id": "YxQn2LWY3ek7"
   },
   "source": [
    "Pour finir ce notebook, nous allons sauvegarder les paramètres de notre modèle si nous voulons l'utiliser à nouveau plus tard."
   ]
  },
  {
   "cell_type": "code",
   "execution_count": null,
   "metadata": {
    "colab": {},
    "colab_type": "code",
    "id": "bU55lxoZ3ek8"
   },
   "outputs": [],
   "source": [
    "model.save_weights(\"model.h5\")"
   ]
  },
  {
   "cell_type": "code",
   "execution_count": null,
   "metadata": {
    "colab": {},
    "colab_type": "code",
    "id": "zUdHE_7e3ek-"
   },
   "outputs": [],
   "source": []
  }
 ],
 "metadata": {
  "accelerator": "GPU",
  "colab": {
   "name": "Copie de Introduction au convolutional neural network.ipynb",
   "provenance": [
    {
     "file_id": "https://github.com/MorganGautherot/Tuto_MRI_ML/blob/master/tp_1/Introduction%20au%20convolutional%20neural%20network.ipynb",
     "timestamp": 1583265304990
    }
   ]
  },
  "kernelspec": {
   "display_name": "Python 3",
   "language": "python",
   "name": "python3"
  },
  "language_info": {
   "codemirror_mode": {
    "name": "ipython",
    "version": 3
   },
   "file_extension": ".py",
   "mimetype": "text/x-python",
   "name": "python",
   "nbconvert_exporter": "python",
   "pygments_lexer": "ipython3",
   "version": "3.6.6"
  }
 },
 "nbformat": 4,
 "nbformat_minor": 1
}
